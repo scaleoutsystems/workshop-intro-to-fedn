{
 "cells": [
  {
   "cell_type": "markdown",
   "id": "assisted-capitol",
   "metadata": {},
   "source": [
    "## Import dependencies"
   ]
  },
  {
   "cell_type": "code",
   "execution_count": 1,
   "id": "affecting-digest",
   "metadata": {},
   "outputs": [],
   "source": [
    "import requests\n",
    "import stackn.auth as sa\n",
    "import os\n",
    "os.environ['TF_FORCE_GPU_ALLOW_GROWTH'] = 'true'\n",
    "\n",
    "# os.environ['CUDA_VISIBLE_DEVICES'] = '-1'\n",
    "\n",
    "import numpy as np\n",
    "import tensorflow as tf\n",
    "from tensorflow import keras\n",
    "from tensorflow.keras import layers"
   ]
  },
  {
   "cell_type": "markdown",
   "id": "norwegian-cinema",
   "metadata": {},
   "source": [
    "## Prepare data to use as samples for inference requests"
   ]
  },
  {
   "cell_type": "code",
   "execution_count": 2,
   "id": "suffering-biotechnology",
   "metadata": {},
   "outputs": [
    {
     "name": "stdout",
     "output_type": "stream",
     "text": [
      "x_train shape: (60000, 28, 28, 1)\n",
      "60000 train samples\n",
      "10000 test samples\n"
     ]
    }
   ],
   "source": [
    "# Model / data parameters\n",
    "num_classes = 10\n",
    "input_shape = (28, 28, 1)\n",
    "\n",
    "# the data, split between train and test sets\n",
    "(x_train, y_train), (x_test, y_test) = keras.datasets.mnist.load_data()\n",
    "\n",
    "# Scale images to the [0, 1] range\n",
    "x_train = x_train.astype(\"float32\") / 255\n",
    "x_test = x_test.astype(\"float32\") / 255\n",
    "# Make sure images have shape (28, 28, 1)\n",
    "x_train = np.expand_dims(x_train, -1)\n",
    "x_test = np.expand_dims(x_test, -1)\n",
    "print(\"x_train shape:\", x_train.shape)\n",
    "print(x_train.shape[0], \"train samples\")\n",
    "print(x_test.shape[0], \"test samples\")\n",
    "\n",
    "\n",
    "# convert class vectors to binary class matrices\n",
    "y_train = keras.utils.to_categorical(y_train, num_classes)\n",
    "y_test = keras.utils.to_categorical(y_test, num_classes)"
   ]
  },
  {
   "cell_type": "markdown",
   "id": "dated-authority",
   "metadata": {},
   "source": [
    "## Select a few images from the testset"
   ]
  },
  {
   "cell_type": "code",
   "execution_count": 3,
   "id": "fitted-oklahoma",
   "metadata": {},
   "outputs": [],
   "source": [
    "inp = {\"inputs\": x_test[0:10].tolist()}"
   ]
  },
  {
   "cell_type": "markdown",
   "id": "chemical-functionality",
   "metadata": {},
   "source": [
    "## Define the endpoint to the model you want to infer on"
   ]
  },
  {
   "cell_type": "code",
   "execution_count": 4,
   "id": "elementary-lounge",
   "metadata": {},
   "outputs": [],
   "source": [
    "model_url = 'https://tensorflow-serving-mnist-nbx-1ebc.studio.demo.stackn.dev/v1/models/models:predict'"
   ]
  },
  {
   "cell_type": "markdown",
   "id": "typical-learning",
   "metadata": {},
   "source": [
    "## Run inference towards the endpoint"
   ]
  },
  {
   "cell_type": "code",
   "execution_count": 5,
   "id": "front-senegal",
   "metadata": {},
   "outputs": [],
   "source": [
    "conf, status = sa.get_token()\n",
    "res = requests.post(model_url, json=inp, headers={\"Authorization\": \"Bearer \"+conf['STACKN_ACCESS_TOKEN']})"
   ]
  },
  {
   "cell_type": "code",
   "execution_count": 6,
   "id": "stone-lotus",
   "metadata": {},
   "outputs": [],
   "source": [
    "results = res.json()"
   ]
  },
  {
   "cell_type": "markdown",
   "id": "treated-rubber",
   "metadata": {},
   "source": [
    "## Show an example of the inferences\n",
    "picture vs class predicted"
   ]
  },
  {
   "cell_type": "code",
   "execution_count": 7,
   "id": "equipped-responsibility",
   "metadata": {},
   "outputs": [
    {
     "data": {
      "text/plain": [
       "Text(0.5, 1.0, 'class label: 7, predicted class: 7(probability: 100.0%)')"
      ]
     },
     "execution_count": 7,
     "metadata": {},
     "output_type": "execute_result"
    },
    {
     "data": {
      "image/png": "[encoded data removed]",
      "text/plain": [
       "<Figure size 1008x1008 with 1 Axes>"
      ]
     },
     "metadata": {
      "needs_background": "light"
     },
     "output_type": "display_data"
    }
   ],
   "source": [
    "from matplotlib import pylab as plt\n",
    "\n",
    "#Plot a sample image with class label, predicted class and probability\n",
    "f, ax = plt.subplots(1,1,figsize=(14,14))\n",
    "sample =0\n",
    "ax.imshow(x_test[sample])\n",
    "sample_prediction = np.argmax(results['outputs'][sample])\n",
    "ax.set_title(\"class label: \" + str(np.argmax(y_test[sample])) + \", predicted class: \" + \n",
    "             str(sample_prediction) + \"(probability: \" + str(np.round(results['outputs'][sample][sample_prediction])*100)+ \"%)\" ,fontsize=30)"
   ]
  },
  {
   "cell_type": "code",
   "execution_count": null,
   "id": "hybrid-criterion",
   "metadata": {},
   "outputs": [],
   "source": []
  }
 ],
 "metadata": {
  "kernelspec": {
   "display_name": "Python 3",
   "language": "python",
   "name": "python3"
  },
  "language_info": {
   "codemirror_mode": {
    "name": "ipython",
    "version": 3
   },
   "file_extension": ".py",
   "mimetype": "text/x-python",
   "name": "python",
   "nbconvert_exporter": "python",
   "pygments_lexer": "ipython3",
   "version": "3.8.8"
  }
 },
 "nbformat": 4,
 "nbformat_minor": 5
}
