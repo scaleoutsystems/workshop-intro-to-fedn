{
 "cells": [
  {
   "cell_type": "code",
   "execution_count": null,
   "id": "suffering-eleven",
   "metadata": {},
   "outputs": [],
   "source": [
    "import requests\n",
    "import stackn.auth as sa\n",
    "\n",
    "import os\n",
    "os.environ['TF_FORCE_GPU_ALLOW_GROWTH'] = 'true'\n",
    "\n",
    "# os.environ['CUDA_VISIBLE_DEVICES'] = '-1'\n",
    "\n",
    "import numpy as np\n",
    "import tensorflow as tf\n",
    "from tensorflow import keras\n",
    "from tensorflow.keras import layers"
   ]
  },
  {
   "cell_type": "code",
   "execution_count": null,
   "id": "transsexual-anaheim",
   "metadata": {},
   "outputs": [],
   "source": []
  },
  {
   "cell_type": "code",
   "execution_count": null,
   "id": "going-practitioner",
   "metadata": {},
   "outputs": [],
   "source": [
    "# Model / data parameters\n",
    "num_classes = 10\n",
    "input_shape = (28, 28, 1)\n",
    "\n",
    "# the data, split between train and test sets\n",
    "(x_train, y_train), (x_test, y_test) = keras.datasets.mnist.load_data()\n",
    "\n",
    "# Scale images to the [0, 1] range\n",
    "x_train = x_train.astype(\"float32\") / 255\n",
    "x_test = x_test.astype(\"float32\") / 255\n",
    "# Make sure images have shape (28, 28, 1)\n",
    "x_train = np.expand_dims(x_train, -1)\n",
    "x_test = np.expand_dims(x_test, -1)\n",
    "print(\"x_train shape:\", x_train.shape)\n",
    "print(x_train.shape[0], \"train samples\")\n",
    "print(x_test.shape[0], \"test samples\")\n",
    "\n",
    "\n",
    "# convert class vectors to binary class matrices\n",
    "y_train = keras.utils.to_categorical(y_train, num_classes)\n",
    "y_test = keras.utils.to_categorical(y_test, num_classes)"
   ]
  },
  {
   "cell_type": "code",
   "execution_count": null,
   "id": "understood-principle",
   "metadata": {},
   "outputs": [],
   "source": [
    "inp = {\"inputs\": x_test[0:10].tolist()}"
   ]
  },
  {
   "cell_type": "code",
   "execution_count": null,
   "id": "romance-discussion",
   "metadata": {},
   "outputs": [],
   "source": [
    "conf, status = sa.get_token()\n",
    "res = requests.post('https://tensorflow-serving-test-eju-9ce4.studio-dev.local.stackn.dev/v1/models/models:predict', json=inp, headers={\"Authorization\": \"Bearer \"+conf['STACKN_ACCESS_TOKEN']})"
   ]
  },
  {
   "cell_type": "code",
   "execution_count": null,
   "id": "executed-regulation",
   "metadata": {},
   "outputs": [],
   "source": [
    "res.json()"
   ]
  }
 ],
 "metadata": {
  "kernelspec": {
   "display_name": "Python 3",
   "language": "python",
   "name": "python3"
  },
  "language_info": {
   "codemirror_mode": {
    "name": "ipython",
    "version": 3
   },
   "file_extension": ".py",
   "mimetype": "text/x-python",
   "name": "python",
   "nbconvert_exporter": "python",
   "pygments_lexer": "ipython3",
   "version": "3.8.5"
  }
 },
 "nbformat": 4,
 "nbformat_minor": 5
}
