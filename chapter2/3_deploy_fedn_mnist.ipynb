{
 "cells": [
  {
   "cell_type": "code",
   "execution_count": 10,
   "id": "quiet-guatemala",
   "metadata": {},
   "outputs": [],
   "source": [
    "import os\n",
    "import tensorflow as tf\n",
    "from stackn import stackn\n",
    "from fedn.utils.kerashelper import KerasHelper\n",
    "from models.mnist_model import create_seed_model\n"
   ]
  },
  {
   "cell_type": "code",
   "execution_count": 11,
   "id": "sexual-aruba",
   "metadata": {},
   "outputs": [],
   "source": [
    "path_to_model_weights = '/home/jovyan/work/minio-vol/fedn-models/4f80355a-0655-49b7-a97f-7a9798f256df'\n",
    "    \n",
    "helper = KerasHelper()\n",
    "weights = helper.load_model(path_to_model_weights)\n",
    "\n",
    "model = create_seed_model()\n",
    "model.set_weights(weights)"
   ]
  },
  {
   "cell_type": "code",
   "execution_count": null,
   "id": "basic-assembly",
   "metadata": {},
   "outputs": [],
   "source": []
  },
  {
   "cell_type": "code",
   "execution_count": 12,
   "id": "broad-drinking",
   "metadata": {},
   "outputs": [
    {
     "name": "stdout",
     "output_type": "stream",
     "text": [
      "INFO:tensorflow:Assets written to: models/1/assets\n"
     ]
    },
    {
     "name": "stderr",
     "output_type": "stream",
     "text": [
      "04/08/2021 12:39:27 PM [builder_impl.py:774] Assets written to: models/1/assets\n"
     ]
    },
    {
     "name": "stdout",
     "output_type": "stream",
     "text": [
      "Released model: fedn-mnist, release_type: minor\n"
     ]
    },
    {
     "data": {
      "text/plain": [
       "True"
      ]
     },
     "execution_count": 12,
     "metadata": {},
     "output_type": "execute_result"
    }
   ],
   "source": [
    "tf.saved_model.save(model, 'models/1/')\n",
    "stackn.create_object('fedn-mnist', release_type=\"minor\")"
   ]
  },
  {
   "cell_type": "code",
   "execution_count": null,
   "id": "alternative-indian",
   "metadata": {},
   "outputs": [],
   "source": []
  }
 ],
 "metadata": {
  "kernelspec": {
   "display_name": "Python 3",
   "language": "python",
   "name": "python3"
  },
  "language_info": {
   "codemirror_mode": {
    "name": "ipython",
    "version": 3
   },
   "file_extension": ".py",
   "mimetype": "text/x-python",
   "name": "python",
   "nbconvert_exporter": "python",
   "pygments_lexer": "ipython3",
   "version": "3.8.8"
  }
 },
 "nbformat": 4,
 "nbformat_minor": 5
}
