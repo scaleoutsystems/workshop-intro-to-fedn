{
 "cells": [
  {
   "cell_type": "markdown",
   "id": "e423f2eb",
   "metadata": {},
   "source": [
    "## Import dependencies"
   ]
  },
  {
   "cell_type": "code",
   "execution_count": 10,
   "id": "53526673",
   "metadata": {},
   "outputs": [],
   "source": [
    "import os\n",
    "import tensorflow as tf\n",
    "from stackn import stackn\n",
    "from fedn.utils.kerashelper import KerasHelper\n",
    "from models.mnist_model import create_seed_model\n"
   ]
  },
  {
   "cell_type": "markdown",
   "id": "fd36af98",
   "metadata": {},
   "source": [
    "## Specify the path to the model desired to deploy"
   ]
  },
  {
   "cell_type": "code",
   "execution_count": null,
   "id": "9d0310d3",
   "metadata": {},
   "outputs": [],
   "source": [
    "path_to_model_weights = '/home/jovyan/work/minio-vol/fedn-models/4f80355a-0655-49b7-a97f-7a9798f256df'"
   ]
  },
  {
   "cell_type": "markdown",
   "id": "b8ab3763",
   "metadata": {},
   "source": [
    "## Import the model and set the latest weights from the federations best model"
   ]
  },
  {
   "cell_type": "code",
   "execution_count": 11,
   "id": "7c0ee66a",
   "metadata": {},
   "outputs": [],
   "source": [
    "helper = KerasHelper()\n",
    "weights = helper.load_model(path_to_model_weights)\n",
    "\n",
    "model = create_seed_model()\n",
    "model.set_weights(weights)"
   ]
  },
  {
   "cell_type": "markdown",
   "id": "bd5c669a",
   "metadata": {},
   "source": [
    "## Save the model as a tensorflow model\n",
    "Save the model as a tensorflow model and register the model with stackn to make it visible in the model manager."
   ]
  },
  {
   "cell_type": "code",
   "execution_count": 12,
   "id": "21f807d9",
   "metadata": {},
   "outputs": [
    {
     "name": "stdout",
     "output_type": "stream",
     "text": [
      "INFO:tensorflow:Assets written to: models/1/assets\n"
     ]
    },
    {
     "name": "stderr",
     "output_type": "stream",
     "text": [
      "04/08/2021 12:39:27 PM [builder_impl.py:774] Assets written to: models/1/assets\n"
     ]
    },
    {
     "name": "stdout",
     "output_type": "stream",
     "text": [
      "Released model: fedn-mnist, release_type: minor\n"
     ]
    },
    {
     "data": {
      "text/plain": [
       "True"
      ]
     },
     "execution_count": 12,
     "metadata": {},
     "output_type": "execute_result"
    }
   ],
   "source": [
    "tf.saved_model.save(model, 'models/1/')\n",
    "stackn.create_object('fedn-mnist', release_type=\"minor\")"
   ]
  },
  {
   "cell_type": "markdown",
   "id": "11ccf0c4",
   "metadata": {},
   "source": [
    "## Prepare the testset again for evaluation of performance"
   ]
  },
  {
   "cell_type": "code",
   "execution_count": null,
   "id": "70f43cc9",
   "metadata": {},
   "outputs": [],
   "source": [
    "# the data, split between train and test sets\n",
    "(x_train, y_train), (x_test, y_test) = keras.datasets.mnist.load_data()\n",
    "\n",
    "# Scale images to the [0, 1] range\n",
    "x_test = x_test.astype(\"float32\") / 255\n",
    "# Make sure images have shape (28, 28, 1)\n",
    "x_test = np.expand_dims(x_test, -1)\n",
    "print(x_test.shape[0], \"test samples\")\n",
    "\n",
    "\n",
    "# convert class vectors to binary class matrices\n",
    "y_test = keras.utils.to_categorical(y_test, num_classes)\n"
   ]
  },
  {
   "cell_type": "markdown",
   "id": "e06aa175",
   "metadata": {},
   "source": [
    "## Evaluate model performance"
   ]
  },
  {
   "cell_type": "code",
   "execution_count": null,
   "id": "f9ece934",
   "metadata": {},
   "outputs": [],
   "source": [
    "# Evaluate on test set (includes all 10 classes)\n",
    "model.evaluate(x_test,y_test)"
   ]
  },
  {
   "cell_type": "markdown",
   "id": "a478e8cf",
   "metadata": {},
   "source": [
    "## Conclusion\n",
    "Concluding that the model is performing better federated than on the local-only dataset."
   ]
  },
  {
   "cell_type": "code",
   "execution_count": null,
   "id": "eb257f1d",
   "metadata": {},
   "outputs": [],
   "source": []
  }
 ],
 "metadata": {
  "kernelspec": {
   "display_name": "Python 3",
   "language": "python",
   "name": "python3"
  },
  "language_info": {
   "codemirror_mode": {
    "name": "ipython",
    "version": 3
   },
   "file_extension": ".py",
   "mimetype": "text/x-python",
   "name": "python",
   "nbconvert_exporter": "python",
   "pygments_lexer": "ipython3",
   "version": "3.9.4"
  }
 },
 "nbformat": 4,
 "nbformat_minor": 5
}
