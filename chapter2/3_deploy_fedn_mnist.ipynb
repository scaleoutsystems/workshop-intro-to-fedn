{
 "cells": [
  {
   "cell_type": "markdown",
   "id": "related-company",
   "metadata": {},
   "source": [
    "## Import dependencies"
   ]
  },
  {
   "cell_type": "code",
   "execution_count": 9,
   "id": "micro-petersburg",
   "metadata": {},
   "outputs": [],
   "source": [
    "import os\n",
    "import tensorflow as tf\n",
    "import numpy as np\n",
    "from tensorflow import keras\n",
    "from stackn import stackn\n",
    "from fedn.utils.kerashelper import KerasHelper\n",
    "from models.mnist_model import create_seed_model\n"
   ]
  },
  {
   "cell_type": "markdown",
   "id": "crazy-dynamics",
   "metadata": {},
   "source": [
    "## Specify the path to the model desired to deploy"
   ]
  },
  {
   "cell_type": "code",
   "execution_count": 13,
   "id": "scientific-merchandise",
   "metadata": {},
   "outputs": [],
   "source": [
    "#path_to_model_weights = '/home/jovyan/work/minio-vol/fedn-models/c8683015-be09-4ad4-8490-751d47f74566'\n",
    "path_to_model_weights = '/home/jovyan/work/minio-vol/fedn-models/4b2af46c-3e0a-4993-8bc0-a9b5ae4d6dd4'"
   ]
  },
  {
   "cell_type": "markdown",
   "id": "classified-perry",
   "metadata": {},
   "source": [
    "## Import the model and set the latest weights from the federations best model"
   ]
  },
  {
   "cell_type": "code",
   "execution_count": 14,
   "id": "developing-beast",
   "metadata": {},
   "outputs": [],
   "source": [
    "helper = KerasHelper()\n",
    "weights = helper.load_model(path_to_model_weights)\n",
    "\n",
    "model = create_seed_model()\n",
    "model.set_weights(weights)"
   ]
  },
  {
   "cell_type": "markdown",
   "id": "popular-tolerance",
   "metadata": {},
   "source": [
    "## Save the model as a tensorflow model\n",
    "Save the model as a tensorflow model and register the model with stackn to make it visible in the model manager."
   ]
  },
  {
   "cell_type": "code",
   "execution_count": 15,
   "id": "illegal-health",
   "metadata": {},
   "outputs": [
    {
     "name": "stdout",
     "output_type": "stream",
     "text": [
      "INFO:tensorflow:Assets written to: models/1/assets\n"
     ]
    },
    {
     "name": "stderr",
     "output_type": "stream",
     "text": [
      "05/06/2021 08:02:53 AM [builder_impl.py:774] Assets written to: models/1/assets\n"
     ]
    },
    {
     "name": "stdout",
     "output_type": "stream",
     "text": [
      "Released model: fedn-mnist, release_type: minor\n"
     ]
    },
    {
     "data": {
      "text/plain": [
       "True"
      ]
     },
     "execution_count": 15,
     "metadata": {},
     "output_type": "execute_result"
    }
   ],
   "source": [
    "tf.saved_model.save(model, 'models/1/')\n",
    "stackn.create_object('fedn-mnist', release_type=\"minor\")"
   ]
  },
  {
   "cell_type": "markdown",
   "id": "occasional-dealer",
   "metadata": {},
   "source": [
    "## Prepare the testset again for evaluation of performance"
   ]
  },
  {
   "cell_type": "code",
   "execution_count": 16,
   "id": "black-campaign",
   "metadata": {},
   "outputs": [
    {
     "name": "stdout",
     "output_type": "stream",
     "text": [
      "10000 test samples\n"
     ]
    }
   ],
   "source": [
    "# Model / data parameters\n",
    "num_classes = 10\n",
    "input_shape = (28, 28, 1)\n",
    "# the data, split between train and test sets\n",
    "(x_train, y_train), (x_test, y_test) = keras.datasets.mnist.load_data()\n",
    "\n",
    "# Scale images to the [0, 1] range\n",
    "x_test = x_test.astype(\"float32\") / 255\n",
    "# Make sure images have shape (28, 28, 1)\n",
    "x_test = np.expand_dims(x_test, -1)\n",
    "print(x_test.shape[0], \"test samples\")\n",
    "\n",
    "\n",
    "# convert class vectors to binary class matrices\n",
    "y_test = keras.utils.to_categorical(y_test, num_classes)\n"
   ]
  },
  {
   "cell_type": "markdown",
   "id": "threaded-cotton",
   "metadata": {},
   "source": [
    "## Evaluate model performance"
   ]
  },
  {
   "cell_type": "code",
   "execution_count": 17,
   "id": "interracial-routine",
   "metadata": {},
   "outputs": [
    {
     "name": "stdout",
     "output_type": "stream",
     "text": [
      "313/313 [==============================] - 2s 5ms/step - loss: 0.3913 - accuracy: 0.9073\n"
     ]
    },
    {
     "data": {
      "text/plain": [
       "[0.35742101073265076, 0.9153000116348267]"
      ]
     },
     "execution_count": 17,
     "metadata": {},
     "output_type": "execute_result"
    }
   ],
   "source": [
    "# Evaluate on test set (includes all 10 classes)\n",
    "model.evaluate(x_test,y_test)"
   ]
  },
  {
   "cell_type": "markdown",
   "id": "exciting-kenya",
   "metadata": {},
   "source": [
    "## Conclusion\n",
    "Concluding that the model is performing better federated than on the local-only dataset."
   ]
  },
  {
   "cell_type": "code",
   "execution_count": null,
   "id": "discrete-knight",
   "metadata": {},
   "outputs": [],
   "source": []
  }
 ],
 "metadata": {
  "kernelspec": {
   "display_name": "Python 3",
   "language": "python",
   "name": "python3"
  },
  "language_info": {
   "codemirror_mode": {
    "name": "ipython",
    "version": 3
   },
   "file_extension": ".py",
   "mimetype": "text/x-python",
   "name": "python",
   "nbconvert_exporter": "python",
   "pygments_lexer": "ipython3",
   "version": "3.8.8"
  }
 },
 "nbformat": 4,
 "nbformat_minor": 5
}
