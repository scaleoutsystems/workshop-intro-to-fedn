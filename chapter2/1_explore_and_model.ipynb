{
 "cells": [
  {
   "cell_type": "markdown",
   "id": "enhanced-comment",
   "metadata": {},
   "source": [
    "## Importing dependencies\n"
   ]
  },
  {
   "cell_type": "code",
   "execution_count": 1,
   "id": "jewish-portable",
   "metadata": {},
   "outputs": [
    {
     "name": "stderr",
     "output_type": "stream",
     "text": [
      "2021/05/06 08:54:58 INFO mlflow.tracking.fluent: Autologging successfully enabled for tensorflow.\n"
     ]
    }
   ],
   "source": [
    "import os\n",
    "os.environ['TF_FORCE_GPU_ALLOW_GROWTH'] = 'true'\n",
    "\n",
    "# os.environ['CUDA_VISIBLE_DEVICES'] = '-1'\n",
    "\n",
    "import numpy as np\n",
    "import tensorflow as tf\n",
    "from tensorflow import keras\n",
    "from tensorflow.keras import layers\n",
    "\n",
    "import mlflow\n",
    "mlflow.autolog()\n"
   ]
  },
  {
   "cell_type": "markdown",
   "id": "signal-folks",
   "metadata": {},
   "source": [
    "## Importing and preparing the dataset"
   ]
  },
  {
   "cell_type": "code",
   "execution_count": 2,
   "id": "assured-process",
   "metadata": {},
   "outputs": [
    {
     "name": "stdout",
     "output_type": "stream",
     "text": [
      "Downloading data from https://storage.googleapis.com/tensorflow/tf-keras-datasets/mnist.npz\n",
      "11493376/11490434 [==============================] - 0s 0us/step\n",
      "x_train shape: (30508, 28, 28, 1)\n",
      "30508 train samples\n",
      "10000 test samples\n"
     ]
    },
    {
     "name": "stderr",
     "output_type": "stream",
     "text": [
      "<ipython-input-2-8b0d789652b1>:9: DeprecationWarning: Applying '+' to a non-numerical array is ill-defined. Returning a copy, but in the future this will error.\n",
      "  ind = np.where((y_train == 1)+(y_train == 3) + (y_train == 5) + (y_train == 7)++ (y_train == 9))\n"
     ]
    }
   ],
   "source": [
    "# Model / data parameters\n",
    "num_classes = 10\n",
    "input_shape = (28, 28, 1)\n",
    "\n",
    "# the data, split between train and test sets\n",
    "(x_train, y_train), (x_test, y_test) = keras.datasets.mnist.load_data()\n",
    "\n",
    "# Filter out classes: 0,2,4,6,8\n",
    "ind = np.where((y_train == 1)+(y_train == 3) + (y_train == 5) + (y_train == 7)++ (y_train == 9))\n",
    "x_train, y_train = x_train[ind], y_train[ind]\n",
    "\n",
    "\n",
    "# Scale images to the [0, 1] range\n",
    "x_train = x_train.astype(\"float32\") / 255\n",
    "x_test = x_test.astype(\"float32\") / 255\n",
    "# Make sure images have shape (28, 28, 1)\n",
    "x_train = np.expand_dims(x_train, -1)\n",
    "x_test = np.expand_dims(x_test, -1)\n",
    "print(\"x_train shape:\", x_train.shape)\n",
    "print(x_train.shape[0], \"train samples\")\n",
    "print(x_test.shape[0], \"test samples\")\n",
    "\n",
    "\n",
    "# convert class vectors to binary class matrices\n",
    "y_train = keras.utils.to_categorical(y_train, num_classes)\n",
    "y_test = keras.utils.to_categorical(y_test, num_classes)\n"
   ]
  },
  {
   "cell_type": "markdown",
   "id": "confident-offering",
   "metadata": {},
   "source": [
    "## Creating the initial model"
   ]
  },
  {
   "cell_type": "code",
   "execution_count": 3,
   "id": "integrated-emphasis",
   "metadata": {},
   "outputs": [
    {
     "name": "stdout",
     "output_type": "stream",
     "text": [
      "Model: \"sequential\"\n",
      "_________________________________________________________________\n",
      "Layer (type)                 Output Shape              Param #   \n",
      "=================================================================\n",
      "conv2d (Conv2D)              (None, 26, 26, 32)        320       \n",
      "_________________________________________________________________\n",
      "max_pooling2d (MaxPooling2D) (None, 13, 13, 32)        0         \n",
      "_________________________________________________________________\n",
      "conv2d_1 (Conv2D)            (None, 11, 11, 64)        18496     \n",
      "_________________________________________________________________\n",
      "max_pooling2d_1 (MaxPooling2 (None, 5, 5, 64)          0         \n",
      "_________________________________________________________________\n",
      "flatten (Flatten)            (None, 1600)              0         \n",
      "_________________________________________________________________\n",
      "dropout (Dropout)            (None, 1600)              0         \n",
      "_________________________________________________________________\n",
      "dense (Dense)                (None, 10)                16010     \n",
      "=================================================================\n",
      "Total params: 34,826\n",
      "Trainable params: 34,826\n",
      "Non-trainable params: 0\n",
      "_________________________________________________________________\n"
     ]
    }
   ],
   "source": [
    "model = keras.Sequential(\n",
    "    [\n",
    "        keras.Input(shape=input_shape),\n",
    "        layers.Conv2D(32, kernel_size=(3, 3), activation=\"relu\"),\n",
    "        layers.MaxPooling2D(pool_size=(2, 2)),\n",
    "        layers.Conv2D(64, kernel_size=(3, 3), activation=\"relu\"),\n",
    "        layers.MaxPooling2D(pool_size=(2, 2)),\n",
    "        layers.Flatten(),\n",
    "        layers.Dropout(0.5),\n",
    "        layers.Dense(num_classes, activation=\"softmax\"),\n",
    "    ]\n",
    ")\n",
    "\n",
    "model.summary()\n"
   ]
  },
  {
   "cell_type": "markdown",
   "id": "golden-criminal",
   "metadata": {},
   "source": [
    "## Training the model on the local dataset"
   ]
  },
  {
   "cell_type": "code",
   "execution_count": 4,
   "id": "official-richards",
   "metadata": {},
   "outputs": [
    {
     "name": "stderr",
     "output_type": "stream",
     "text": [
      "2021/05/06 08:55:04 INFO mlflow.utils.autologging_utils: Created MLflow autologging run with ID 'aaf3464599314a758c1ebb85bd33bd0c', which will track hyperparameters, performance metrics, model artifacts, and lineage information for the current tensorflow workflow\n"
     ]
    },
    {
     "name": "stdout",
     "output_type": "stream",
     "text": [
      "Epoch 1/10\n",
      "215/215 [==============================] - 7s 32ms/step - loss: 0.7646 - accuracy: 0.7354 - val_loss: 0.0740 - val_accuracy: 0.9800\n",
      "Epoch 2/10\n",
      "215/215 [==============================] - 7s 31ms/step - loss: 0.1008 - accuracy: 0.9688 - val_loss: 0.0475 - val_accuracy: 0.9866\n",
      "Epoch 3/10\n",
      "215/215 [==============================] - 7s 31ms/step - loss: 0.0663 - accuracy: 0.9793 - val_loss: 0.0368 - val_accuracy: 0.9892\n",
      "Epoch 4/10\n",
      "215/215 [==============================] - 7s 31ms/step - loss: 0.0521 - accuracy: 0.9843 - val_loss: 0.0303 - val_accuracy: 0.9908\n",
      "Epoch 5/10\n",
      "215/215 [==============================] - 7s 31ms/step - loss: 0.0409 - accuracy: 0.9878 - val_loss: 0.0271 - val_accuracy: 0.9918\n",
      "Epoch 6/10\n",
      "215/215 [==============================] - 7s 31ms/step - loss: 0.0408 - accuracy: 0.9866 - val_loss: 0.0244 - val_accuracy: 0.9928\n",
      "Epoch 7/10\n",
      "215/215 [==============================] - 7s 31ms/step - loss: 0.0338 - accuracy: 0.9889 - val_loss: 0.0227 - val_accuracy: 0.9928\n",
      "Epoch 8/10\n",
      "215/215 [==============================] - 7s 31ms/step - loss: 0.0331 - accuracy: 0.9895 - val_loss: 0.0212 - val_accuracy: 0.9938\n",
      "Epoch 9/10\n",
      "215/215 [==============================] - 7s 31ms/step - loss: 0.0268 - accuracy: 0.9915 - val_loss: 0.0211 - val_accuracy: 0.9934\n",
      "Epoch 10/10\n",
      "215/215 [==============================] - 7s 31ms/step - loss: 0.0304 - accuracy: 0.9899 - val_loss: 0.0200 - val_accuracy: 0.9944\n"
     ]
    },
    {
     "name": "stderr",
     "output_type": "stream",
     "text": [
      "2021/05/06 08:56:12 INFO mlflow.tracking.fluent: Autologging successfully enabled for keras.\n"
     ]
    },
    {
     "name": "stdout",
     "output_type": "stream",
     "text": [
      "INFO:tensorflow:Assets written to: /tmp/tmp20uya286/model/data/model/assets\n"
     ]
    },
    {
     "data": {
      "text/plain": [
       "<tensorflow.python.keras.callbacks.History at 0x7f6801c77160>"
      ]
     },
     "execution_count": 4,
     "metadata": {},
     "output_type": "execute_result"
    }
   ],
   "source": [
    "\n",
    "batch_size = 128\n",
    "epochs = 10\n",
    "\n",
    "model.compile(loss=\"categorical_crossentropy\", optimizer=\"adam\", metrics=[\"accuracy\"])\n",
    "# Train on train set (Includes classes 1,3,5,7,9)\n",
    "model.fit(x_train, y_train, batch_size=batch_size, epochs=epochs, validation_split=0.1)\n"
   ]
  },
  {
   "cell_type": "markdown",
   "id": "numerical-memory",
   "metadata": {},
   "source": [
    "## Evaluating the model on the test dataset"
   ]
  },
  {
   "cell_type": "code",
   "execution_count": 5,
   "id": "outside-nickname",
   "metadata": {},
   "outputs": [
    {
     "name": "stdout",
     "output_type": "stream",
     "text": [
      "313/313 [==============================] - 1s 2ms/step - loss: 9.9804 - accuracy: 0.5036\n"
     ]
    },
    {
     "data": {
      "text/plain": [
       "[9.980417251586914, 0.503600001335144]"
      ]
     },
     "execution_count": 5,
     "metadata": {},
     "output_type": "execute_result"
    }
   ],
   "source": [
    "# Evaluate on test set (includes all 10 classes)\n",
    "model.evaluate(x_test,y_test)"
   ]
  },
  {
   "cell_type": "markdown",
   "id": "nearby-looking",
   "metadata": {},
   "source": [
    "## Conclusion\n",
    "The dataset is not enough to provide a good model. We need access to more data!"
   ]
  },
  {
   "cell_type": "code",
   "execution_count": null,
   "id": "standard-trinidad",
   "metadata": {},
   "outputs": [],
   "source": []
  },
  {
   "cell_type": "code",
   "execution_count": null,
   "id": "adjacent-picnic",
   "metadata": {},
   "outputs": [],
   "source": []
  }
 ],
 "metadata": {
  "kernelspec": {
   "display_name": "Python 3",
   "language": "python",
   "name": "python3"
  },
  "language_info": {
   "codemirror_mode": {
    "name": "ipython",
    "version": 3
   },
   "file_extension": ".py",
   "mimetype": "text/x-python",
   "name": "python",
   "nbconvert_exporter": "python",
   "pygments_lexer": "ipython3",
   "version": "3.8.8"
  }
 },
 "nbformat": 4,
 "nbformat_minor": 5
}
