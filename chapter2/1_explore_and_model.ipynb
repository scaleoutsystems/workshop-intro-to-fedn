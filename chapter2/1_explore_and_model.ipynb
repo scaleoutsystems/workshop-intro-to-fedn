{
 "cells": [
  {
   "cell_type": "markdown",
   "id": "03f04d5c",
   "metadata": {},
   "source": [
    "## Importing dependencies\n"
   ]
  },
  {
   "cell_type": "code",
   "execution_count": 1,
   "id": "852882d6",
   "metadata": {},
   "outputs": [
    {
     "name": "stdout",
     "output_type": "stream",
     "text": [
      "INFO:tensorflow:Enabling eager execution\n",
      "INFO:tensorflow:Enabling v2 tensorshape\n",
      "INFO:tensorflow:Enabling resource variables\n",
      "INFO:tensorflow:Enabling tensor equality\n",
      "INFO:tensorflow:Enabling control flow v2\n"
     ]
    },
    {
     "name": "stderr",
     "output_type": "stream",
     "text": [
      "2021/05/06 09:01:08 WARNING mlflow.utils.autologging_utils: You are using an unsupported version of tensorflow. If you encounter errors during autologging, try upgrading / downgrading tensorflow to a supported version, or try upgrading MLflow.\n",
      "2021/05/06 09:01:08 INFO mlflow.tracking.fluent: Autologging successfully enabled for tensorflow.\n"
     ]
    }
   ],
   "source": [
    "import os\n",
    "os.environ['TF_FORCE_GPU_ALLOW_GROWTH'] = 'true'\n",
    "\n",
    "# os.environ['CUDA_VISIBLE_DEVICES'] = '-1'\n",
    "\n",
    "import numpy as np\n",
    "import tensorflow as tf\n",
    "from tensorflow import keras\n",
    "from tensorflow.keras import layers\n",
    "\n",
    "import mlflow\n",
    "mlflow.autolog()\n"
   ]
  },
  {
   "cell_type": "markdown",
   "id": "d733aff0",
   "metadata": {},
   "source": [
    "## Importing and preparing the dataset"
   ]
  },
  {
   "cell_type": "code",
   "execution_count": 2,
   "id": "62d26a26",
   "metadata": {},
   "outputs": [
    {
     "name": "stdout",
     "output_type": "stream",
     "text": [
      "Downloading data from https://storage.googleapis.com/tensorflow/tf-keras-datasets/mnist.npz\n",
      "11493376/11490434 [==============================] - 3s 0us/step\n",
      "x_train shape: (30508, 28, 28, 1)\n",
      "30508 train samples\n",
      "10000 test samples\n"
     ]
    },
    {
     "name": "stderr",
     "output_type": "stream",
     "text": [
      "<ipython-input-2-8b0d789652b1>:9: DeprecationWarning: Applying '+' to a non-numerical array is ill-defined. Returning a copy, but in the future this will error.\n",
      "  ind = np.where((y_train == 1)+(y_train == 3) + (y_train == 5) + (y_train == 7)++ (y_train == 9))\n"
     ]
    }
   ],
   "source": [
    "# Model / data parameters\n",
    "num_classes = 10\n",
    "input_shape = (28, 28, 1)\n",
    "\n",
    "# the data, split between train and test sets\n",
    "(x_train, y_train), (x_test, y_test) = keras.datasets.mnist.load_data()\n",
    "\n",
    "# Filter out classes: 0,2,4,6,8\n",
    "ind = np.where((y_train == 1)+(y_train == 3) + (y_train == 5) + (y_train == 7)++ (y_train == 9))\n",
    "x_train, y_train = x_train[ind], y_train[ind]\n",
    "\n",
    "\n",
    "# Scale images to the [0, 1] range\n",
    "x_train = x_train.astype(\"float32\") / 255\n",
    "x_test = x_test.astype(\"float32\") / 255\n",
    "# Make sure images have shape (28, 28, 1)\n",
    "x_train = np.expand_dims(x_train, -1)\n",
    "x_test = np.expand_dims(x_test, -1)\n",
    "print(\"x_train shape:\", x_train.shape)\n",
    "print(x_train.shape[0], \"train samples\")\n",
    "print(x_test.shape[0], \"test samples\")\n",
    "\n",
    "\n",
    "# convert class vectors to binary class matrices\n",
    "y_train = keras.utils.to_categorical(y_train, num_classes)\n",
    "y_test = keras.utils.to_categorical(y_test, num_classes)\n"
   ]
  },
  {
   "cell_type": "markdown",
   "id": "32d4e1e5",
   "metadata": {},
   "source": [
    "## Creating the initial model"
   ]
  },
  {
   "cell_type": "code",
   "execution_count": 3,
   "id": "8658fdd6",
   "metadata": {},
   "outputs": [
    {
     "name": "stdout",
     "output_type": "stream",
     "text": [
      "WARNING:tensorflow:Please add `keras.layers.InputLayer` instead of `keras.Input` to Sequential model. `keras.Input` is intended to be used by Functional model.\n",
      "Model: \"sequential\"\n",
      "_________________________________________________________________\n",
      "Layer (type)                 Output Shape              Param #   \n",
      "=================================================================\n",
      "conv2d (Conv2D)              (None, 26, 26, 32)        320       \n",
      "_________________________________________________________________\n",
      "max_pooling2d (MaxPooling2D) (None, 13, 13, 32)        0         \n",
      "_________________________________________________________________\n",
      "conv2d_1 (Conv2D)            (None, 11, 11, 64)        18496     \n",
      "_________________________________________________________________\n",
      "max_pooling2d_1 (MaxPooling2 (None, 5, 5, 64)          0         \n",
      "_________________________________________________________________\n",
      "flatten (Flatten)            (None, 1600)              0         \n",
      "_________________________________________________________________\n",
      "dropout (Dropout)            (None, 1600)              0         \n",
      "_________________________________________________________________\n",
      "dense (Dense)                (None, 10)                16010     \n",
      "=================================================================\n",
      "Total params: 34,826\n",
      "Trainable params: 34,826\n",
      "Non-trainable params: 0\n",
      "_________________________________________________________________\n"
     ]
    }
   ],
   "source": [
    "model = keras.Sequential(\n",
    "    [\n",
    "        keras.Input(shape=input_shape),\n",
    "        layers.Conv2D(32, kernel_size=(3, 3), activation=\"relu\"),\n",
    "        layers.MaxPooling2D(pool_size=(2, 2)),\n",
    "        layers.Conv2D(64, kernel_size=(3, 3), activation=\"relu\"),\n",
    "        layers.MaxPooling2D(pool_size=(2, 2)),\n",
    "        layers.Flatten(),\n",
    "        layers.Dropout(0.5),\n",
    "        layers.Dense(num_classes, activation=\"softmax\"),\n",
    "    ]\n",
    ")\n",
    "\n",
    "model.summary()\n"
   ]
  },
  {
   "cell_type": "markdown",
   "id": "49815fd6",
   "metadata": {},
   "source": [
    "## Training the model on the local dataset"
   ]
  },
  {
   "cell_type": "code",
   "execution_count": 4,
   "id": "5b892e34",
   "metadata": {},
   "outputs": [
    {
     "name": "stderr",
     "output_type": "stream",
     "text": [
      "2021/05/06 09:08:05 INFO mlflow.utils.autologging_utils: Created MLflow autologging run with ID 'd45b7705716a4e74859c356659b2912b', which will track hyperparameters, performance metrics, model artifacts, and lineage information for the current tensorflow workflow\n"
     ]
    },
    {
     "name": "stdout",
     "output_type": "stream",
     "text": [
      "Epoch 1/10\n",
      "215/215 [==============================] - 9s 38ms/step - loss: 0.3617 - accuracy: 0.8785 - val_loss: 0.0798 - val_accuracy: 0.9780\n",
      "Epoch 2/10\n",
      "215/215 [==============================] - 8s 37ms/step - loss: 0.0935 - accuracy: 0.9708 - val_loss: 0.0445 - val_accuracy: 0.9889\n",
      "Epoch 3/10\n",
      "215/215 [==============================] - 8s 39ms/step - loss: 0.0624 - accuracy: 0.9796 - val_loss: 0.0356 - val_accuracy: 0.9908\n",
      "Epoch 4/10\n",
      "215/215 [==============================] - 8s 39ms/step - loss: 0.0489 - accuracy: 0.9841 - val_loss: 0.0292 - val_accuracy: 0.9915\n",
      "Epoch 5/10\n",
      "215/215 [==============================] - 9s 40ms/step - loss: 0.0416 - accuracy: 0.9867 - val_loss: 0.0239 - val_accuracy: 0.9934\n",
      "Epoch 6/10\n",
      "215/215 [==============================] - 9s 41ms/step - loss: 0.0343 - accuracy: 0.9889 - val_loss: 0.0235 - val_accuracy: 0.9938\n",
      "Epoch 7/10\n",
      "215/215 [==============================] - 9s 40ms/step - loss: 0.0340 - accuracy: 0.9893 - val_loss: 0.0251 - val_accuracy: 0.9925\n",
      "Epoch 8/10\n",
      "215/215 [==============================] - 9s 40ms/step - loss: 0.0296 - accuracy: 0.9905 - val_loss: 0.0221 - val_accuracy: 0.9931\n",
      "Epoch 9/10\n",
      "215/215 [==============================] - 9s 40ms/step - loss: 0.0271 - accuracy: 0.9917 - val_loss: 0.0191 - val_accuracy: 0.9944\n",
      "Epoch 10/10\n",
      "215/215 [==============================] - 8s 39ms/step - loss: 0.0258 - accuracy: 0.9916 - val_loss: 0.0184 - val_accuracy: 0.9948\n"
     ]
    },
    {
     "name": "stderr",
     "output_type": "stream",
     "text": [
      "2021/05/06 09:09:31 WARNING mlflow.utils.autologging_utils: You are using an unsupported version of keras. If you encounter errors during autologging, try upgrading / downgrading keras to a supported version, or try upgrading MLflow.\n",
      "2021/05/06 09:09:31 INFO mlflow.tracking.fluent: Autologging successfully enabled for keras.\n"
     ]
    },
    {
     "name": "stdout",
     "output_type": "stream",
     "text": [
      "INFO:tensorflow:Assets written to: /tmp/tmpr08tosx1/model/data/model/assets\n"
     ]
    },
    {
     "data": {
      "text/plain": [
       "<tensorflow.python.keras.callbacks.History at 0x7f3b17b63c40>"
      ]
     },
     "execution_count": 4,
     "metadata": {},
     "output_type": "execute_result"
    }
   ],
   "source": [
    "\n",
    "batch_size = 128\n",
    "epochs = 10\n",
    "\n",
    "model.compile(loss=\"categorical_crossentropy\", optimizer=\"adam\", metrics=[\"accuracy\"])\n",
    "# Train on train set (Includes classes 1,3,5,7,9)\n",
    "model.fit(x_train, y_train, batch_size=batch_size, epochs=epochs, validation_split=0.1)\n"
   ]
  },
  {
   "cell_type": "markdown",
   "id": "e72a5542",
   "metadata": {},
   "source": [
    "## Evaluating the model on the test dataset"
   ]
  },
  {
   "cell_type": "code",
   "execution_count": 5,
   "id": "9b0f4637",
   "metadata": {},
   "outputs": [
    {
     "name": "stdout",
     "output_type": "stream",
     "text": [
      "313/313 [==============================] - 1s 2ms/step - loss: 8.8767 - accuracy: 0.5035\n"
     ]
    },
    {
     "data": {
      "text/plain": [
       "[8.876749038696289, 0.5034999847412109]"
      ]
     },
     "execution_count": 5,
     "metadata": {},
     "output_type": "execute_result"
    }
   ],
   "source": [
    "# Evaluate on test set (includes all 10 classes)\n",
    "model.evaluate(x_test,y_test)"
   ]
  },
  {
   "cell_type": "markdown",
   "id": "7b6e10f3",
   "metadata": {},
   "source": [
    "## Conclusion\n",
    "The dataset is not enough to provide a good model. We need access to more data!"
   ]
  },
  {
   "cell_type": "code",
   "execution_count": null,
   "id": "0029bcc6-378a-41ce-8412-b7ff34356d8f",
   "metadata": {},
   "outputs": [],
   "source": []
  }
 ],
 "metadata": {
  "kernelspec": {
   "display_name": "Python 3",
   "language": "python",
   "name": "python3"
  },
  "language_info": {
   "codemirror_mode": {
    "name": "ipython",
    "version": 3
   },
   "file_extension": ".py",
   "mimetype": "text/x-python",
   "name": "python",
   "nbconvert_exporter": "python",
   "pygments_lexer": "ipython3",
   "version": "3.9.4"
  }
 },
 "nbformat": 4,
 "nbformat_minor": 5
}
