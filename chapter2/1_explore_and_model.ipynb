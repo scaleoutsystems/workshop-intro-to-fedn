{
 "cells": [
  {
   "cell_type": "markdown",
   "id": "fantastic-damage",
   "metadata": {},
   "source": [
    "## Importing dependencies\n"
   ]
  },
  {
   "cell_type": "code",
   "execution_count": 2,
   "id": "interested-hampshire",
   "metadata": {},
   "outputs": [
    {
     "name": "stderr",
     "output_type": "stream",
     "text": [
      "2021/05/06 07:57:26 INFO mlflow.tracking.fluent: Autologging successfully enabled for tensorflow.\n"
     ]
    }
   ],
   "source": [
    "import os\n",
    "os.environ['TF_FORCE_GPU_ALLOW_GROWTH'] = 'true'\n",
    "\n",
    "# os.environ['CUDA_VISIBLE_DEVICES'] = '-1'\n",
    "\n",
    "import numpy as np\n",
    "import tensorflow as tf\n",
    "from tensorflow import keras\n",
    "from tensorflow.keras import layers\n",
    "\n",
    "import mlflow\n",
    "mlflow.autolog()\n"
   ]
  },
  {
   "cell_type": "markdown",
   "id": "historical-specific",
   "metadata": {},
   "source": [
    "## Importing and preparing the dataset"
   ]
  },
  {
   "cell_type": "code",
   "execution_count": 3,
   "id": "hired-surname",
   "metadata": {},
   "outputs": [
    {
     "name": "stdout",
     "output_type": "stream",
     "text": [
      "Downloading data from https://storage.googleapis.com/tensorflow/tf-keras-datasets/mnist.npz\n",
      "11493376/11490434 [==============================] - 0s 0us/step\n",
      "x_train shape: (30508, 28, 28, 1)\n",
      "30508 train samples\n",
      "10000 test samples\n"
     ]
    },
    {
     "name": "stderr",
     "output_type": "stream",
     "text": [
      "<ipython-input-3-8b0d789652b1>:9: DeprecationWarning: Applying '+' to a non-numerical array is ill-defined. Returning a copy, but in the future this will error.\n",
      "  ind = np.where((y_train == 1)+(y_train == 3) + (y_train == 5) + (y_train == 7)++ (y_train == 9))\n"
     ]
    }
   ],
   "source": [
    "# Model / data parameters\n",
    "num_classes = 10\n",
    "input_shape = (28, 28, 1)\n",
    "\n",
    "# the data, split between train and test sets\n",
    "(x_train, y_train), (x_test, y_test) = keras.datasets.mnist.load_data()\n",
    "\n",
    "# Filter out classes: 0,2,4,6,8\n",
    "ind = np.where((y_train == 1)+(y_train == 3) + (y_train == 5) + (y_train == 7)++ (y_train == 9))\n",
    "x_train, y_train = x_train[ind], y_train[ind]\n",
    "\n",
    "\n",
    "# Scale images to the [0, 1] range\n",
    "x_train = x_train.astype(\"float32\") / 255\n",
    "x_test = x_test.astype(\"float32\") / 255\n",
    "# Make sure images have shape (28, 28, 1)\n",
    "x_train = np.expand_dims(x_train, -1)\n",
    "x_test = np.expand_dims(x_test, -1)\n",
    "print(\"x_train shape:\", x_train.shape)\n",
    "print(x_train.shape[0], \"train samples\")\n",
    "print(x_test.shape[0], \"test samples\")\n",
    "\n",
    "\n",
    "# convert class vectors to binary class matrices\n",
    "y_train = keras.utils.to_categorical(y_train, num_classes)\n",
    "y_test = keras.utils.to_categorical(y_test, num_classes)\n"
   ]
  },
  {
   "cell_type": "markdown",
   "id": "broken-chamber",
   "metadata": {},
   "source": [
    "## Creating the initial model"
   ]
  },
  {
   "cell_type": "code",
   "execution_count": 4,
   "id": "greatest-leadership",
   "metadata": {},
   "outputs": [
    {
     "name": "stdout",
     "output_type": "stream",
     "text": [
      "Model: \"sequential\"\n",
      "_________________________________________________________________\n",
      "Layer (type)                 Output Shape              Param #   \n",
      "=================================================================\n",
      "conv2d (Conv2D)              (None, 26, 26, 32)        320       \n",
      "_________________________________________________________________\n",
      "max_pooling2d (MaxPooling2D) (None, 13, 13, 32)        0         \n",
      "_________________________________________________________________\n",
      "conv2d_1 (Conv2D)            (None, 11, 11, 64)        18496     \n",
      "_________________________________________________________________\n",
      "max_pooling2d_1 (MaxPooling2 (None, 5, 5, 64)          0         \n",
      "_________________________________________________________________\n",
      "flatten (Flatten)            (None, 1600)              0         \n",
      "_________________________________________________________________\n",
      "dropout (Dropout)            (None, 1600)              0         \n",
      "_________________________________________________________________\n",
      "dense (Dense)                (None, 10)                16010     \n",
      "=================================================================\n",
      "Total params: 34,826\n",
      "Trainable params: 34,826\n",
      "Non-trainable params: 0\n",
      "_________________________________________________________________\n"
     ]
    }
   ],
   "source": [
    "model = keras.Sequential(\n",
    "    [\n",
    "        keras.Input(shape=input_shape),\n",
    "        layers.Conv2D(32, kernel_size=(3, 3), activation=\"relu\"),\n",
    "        layers.MaxPooling2D(pool_size=(2, 2)),\n",
    "        layers.Conv2D(64, kernel_size=(3, 3), activation=\"relu\"),\n",
    "        layers.MaxPooling2D(pool_size=(2, 2)),\n",
    "        layers.Flatten(),\n",
    "        layers.Dropout(0.5),\n",
    "        layers.Dense(num_classes, activation=\"softmax\"),\n",
    "    ]\n",
    ")\n",
    "\n",
    "model.summary()\n"
   ]
  },
  {
   "cell_type": "markdown",
   "id": "modern-poverty",
   "metadata": {},
   "source": [
    "## Training the model on the local dataset"
   ]
  },
  {
   "cell_type": "code",
   "execution_count": 5,
   "id": "binary-mouth",
   "metadata": {},
   "outputs": [
    {
     "name": "stderr",
     "output_type": "stream",
     "text": [
      "2021/05/06 07:57:35 INFO mlflow.utils.autologging_utils: Created MLflow autologging run with ID '25bae118994e4bbab9d8bfe1e5a0c688', which will track hyperparameters, performance metrics, model artifacts, and lineage information for the current tensorflow workflow\n"
     ]
    },
    {
     "name": "stdout",
     "output_type": "stream",
     "text": [
      "Epoch 1/10\n",
      "215/215 [==============================] - 8s 35ms/step - loss: 0.7633 - accuracy: 0.7325 - val_loss: 0.0772 - val_accuracy: 0.9771\n",
      "Epoch 2/10\n",
      "215/215 [==============================] - 7s 33ms/step - loss: 0.1076 - accuracy: 0.9671 - val_loss: 0.0521 - val_accuracy: 0.9853\n",
      "Epoch 3/10\n",
      "215/215 [==============================] - 7s 32ms/step - loss: 0.0738 - accuracy: 0.9759 - val_loss: 0.0376 - val_accuracy: 0.9902\n",
      "Epoch 4/10\n",
      "215/215 [==============================] - 7s 33ms/step - loss: 0.0561 - accuracy: 0.9822 - val_loss: 0.0358 - val_accuracy: 0.9902\n",
      "Epoch 5/10\n",
      "215/215 [==============================] - 7s 32ms/step - loss: 0.0456 - accuracy: 0.9850 - val_loss: 0.0278 - val_accuracy: 0.9925\n",
      "Epoch 6/10\n",
      "215/215 [==============================] - 7s 32ms/step - loss: 0.0417 - accuracy: 0.9865 - val_loss: 0.0272 - val_accuracy: 0.9925\n",
      "Epoch 7/10\n",
      "215/215 [==============================] - 7s 32ms/step - loss: 0.0359 - accuracy: 0.9874 - val_loss: 0.0335 - val_accuracy: 0.9912\n",
      "Epoch 8/10\n",
      "215/215 [==============================] - 7s 32ms/step - loss: 0.0335 - accuracy: 0.9886 - val_loss: 0.0213 - val_accuracy: 0.9934\n",
      "Epoch 9/10\n",
      "215/215 [==============================] - 7s 32ms/step - loss: 0.0290 - accuracy: 0.9901 - val_loss: 0.0196 - val_accuracy: 0.9941\n",
      "Epoch 10/10\n",
      "215/215 [==============================] - 7s 32ms/step - loss: 0.0289 - accuracy: 0.9904 - val_loss: 0.0238 - val_accuracy: 0.9925\n"
     ]
    },
    {
     "name": "stderr",
     "output_type": "stream",
     "text": [
      "2021/05/06 07:58:46 INFO mlflow.tracking.fluent: Autologging successfully enabled for keras.\n"
     ]
    },
    {
     "name": "stdout",
     "output_type": "stream",
     "text": [
      "INFO:tensorflow:Assets written to: /tmp/tmp7t56jxoq/model/data/model/assets\n"
     ]
    },
    {
     "data": {
      "text/plain": [
       "<tensorflow.python.keras.callbacks.History at 0x7fc8bb9a5160>"
      ]
     },
     "execution_count": 5,
     "metadata": {},
     "output_type": "execute_result"
    }
   ],
   "source": [
    "\n",
    "batch_size = 128\n",
    "epochs = 10\n",
    "\n",
    "model.compile(loss=\"categorical_crossentropy\", optimizer=\"adam\", metrics=[\"accuracy\"])\n",
    "# Train on train set (Includes classes 1,3,5,7,9)\n",
    "model.fit(x_train, y_train, batch_size=batch_size, epochs=epochs, validation_split=0.1)\n"
   ]
  },
  {
   "cell_type": "markdown",
   "id": "decent-suggestion",
   "metadata": {},
   "source": [
    "## Evaluating the model on the test dataset"
   ]
  },
  {
   "cell_type": "code",
   "execution_count": 6,
   "id": "alpha-tuition",
   "metadata": {},
   "outputs": [
    {
     "name": "stdout",
     "output_type": "stream",
     "text": [
      "313/313 [==============================] - 1s 2ms/step - loss: 8.9176 - accuracy: 0.5033\n"
     ]
    },
    {
     "data": {
      "text/plain": [
       "[8.91762638092041, 0.5033000111579895]"
      ]
     },
     "execution_count": 6,
     "metadata": {},
     "output_type": "execute_result"
    }
   ],
   "source": [
    "# Evaluate on test set (includes all 10 classes)\n",
    "model.evaluate(x_test,y_test)"
   ]
  },
  {
   "cell_type": "markdown",
   "id": "young-abuse",
   "metadata": {},
   "source": [
    "## Conclusion\n",
    "The dataset is not enough to provide a good model. We need access to more data!"
   ]
  },
  {
   "cell_type": "code",
   "execution_count": null,
   "id": "fifth-purple",
   "metadata": {},
   "outputs": [],
   "source": []
  },
  {
   "cell_type": "code",
   "execution_count": null,
   "id": "compliant-campbell",
   "metadata": {},
   "outputs": [],
   "source": []
  }
 ],
 "metadata": {
  "kernelspec": {
   "display_name": "Python 3",
   "language": "python",
   "name": "python3"
  },
  "language_info": {
   "codemirror_mode": {
    "name": "ipython",
    "version": 3
   },
   "file_extension": ".py",
   "mimetype": "text/x-python",
   "name": "python",
   "nbconvert_exporter": "python",
   "pygments_lexer": "ipython3",
   "version": "3.8.8"
  }
 },
 "nbformat": 4,
 "nbformat_minor": 5
}
