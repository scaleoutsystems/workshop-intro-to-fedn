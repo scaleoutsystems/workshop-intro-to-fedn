{
 "cells": [
  {
   "cell_type": "markdown",
   "id": "parallel-calculator",
   "metadata": {},
   "source": [
    "## Importing dependencies"
   ]
  },
  {
   "cell_type": "code",
   "execution_count": null,
   "id": "orange-yeast",
   "metadata": {},
   "outputs": [],
   "source": []
  },
  {
   "cell_type": "markdown",
   "id": "polished-prague",
   "metadata": {},
   "source": [
    "## Prepare the compute package\n"
   ]
  },
  {
   "cell_type": "code",
   "execution_count": null,
   "id": "compound-denial",
   "metadata": {},
   "outputs": [],
   "source": []
  },
  {
   "cell_type": "markdown",
   "id": "threatened-rebel",
   "metadata": {},
   "source": [
    "## Prepare the seed model"
   ]
  },
  {
   "cell_type": "code",
   "execution_count": null,
   "id": "compound-communications",
   "metadata": {},
   "outputs": [],
   "source": [
    "# Import the model using the model code\n",
    "# Import the weights as specified from the last model\n"
   ]
  },
  {
   "cell_type": "markdown",
   "id": "authentic-estate",
   "metadata": {},
   "source": [
    "## Conclusions\n",
    "From here we are now ready to start a federation!"
   ]
  },
  {
   "cell_type": "code",
   "execution_count": null,
   "id": "sonic-lobby",
   "metadata": {},
   "outputs": [],
   "source": []
  }
 ],
 "metadata": {
  "kernelspec": {
   "display_name": "Python 3",
   "language": "python",
   "name": "python3"
  },
  "language_info": {
   "codemirror_mode": {
    "name": "ipython",
    "version": 3
   },
   "file_extension": ".py",
   "mimetype": "text/x-python",
   "name": "python",
   "nbconvert_exporter": "python",
   "pygments_lexer": "ipython3",
   "version": "3.8.8"
  }
 },
 "nbformat": 4,
 "nbformat_minor": 5
}
