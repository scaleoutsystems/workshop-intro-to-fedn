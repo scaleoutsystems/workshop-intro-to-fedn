{
 "cells": [
  {
   "cell_type": "markdown",
   "id": "delayed-ordinary",
   "metadata": {},
   "source": [
    "## Importing dependencies"
   ]
  },
  {
   "cell_type": "code",
   "execution_count": null,
   "id": "answering-cycling",
   "metadata": {},
   "outputs": [],
   "source": [
    "!"
   ]
  },
  {
   "cell_type": "markdown",
   "id": "juvenile-syria",
   "metadata": {},
   "source": [
    "## Taking a look at train.py"
   ]
  },
  {
   "cell_type": "code",
   "execution_count": null,
   "id": "designing-decline",
   "metadata": {},
   "outputs": [],
   "source": [
    "from __future__ import print_function\n",
    "import sys\n",
    "import tensorflow as tf\n",
    "import tensorflow.keras as keras \n",
    "import tensorflow.keras.models as krm\n",
    "import numpy as np\n",
    "import pickle\n",
    "import yaml\n",
    "tf.compat.v1.logging.set_verbosity(tf.compat.v1.logging.ERROR)\n",
    "\n",
    "from data.read_data import read_data\n",
    "import os   \n",
    "\n",
    "\n",
    "def train(model,data,settings):\n",
    "    print(\"-- RUNNING TRAINING --\", flush=True)\n",
    "\n",
    "    # We are caching the partition in the container home dir so that\n",
    "    # the same training subset is used for each iteration for a client. \n",
    "    try:\n",
    "        x_train = np.save('/app/local_dataset/x_train.npz')\n",
    "        y_train = np.save('/app/local_dataset/y_train.npz')\n",
    "    except:\n",
    "        (x_train, y_train, classes) = read_data(data,\n",
    "                                                nr_examples=settings['training_samples'],\n",
    "                                                trainset=True)\n",
    "\n",
    "        try:\n",
    "            os.mkdir('/app/local_dataset')\n",
    "            np.save('/app/local_dataset/x_train.npz',x_train)\n",
    "            np.save('/app/local_dataset/y_train.npz',y_train)\n",
    "\n",
    "        except:\n",
    "            pass\n",
    "\n",
    "    model.fit(x_train, y_train, batch_size=settings['batch_size'], epochs=settings['epochs'], verbose=1)\n",
    "\n",
    "    print(\"-- TRAINING COMPLETED --\", flush=True)\n",
    "    return model\n",
    "\n",
    "if __name__ == '__main__':\n",
    "\n",
    "    with open('settings.yaml', 'r') as fh:\n",
    "        try:\n",
    "            settings = dict(yaml.safe_load(fh))\n",
    "        except yaml.YAMLError as e:\n",
    "            raise(e)\n",
    "\n",
    "    from fedn.utils.kerashelper import KerasHelper\n",
    "    helper = KerasHelper()\n",
    "    weights = helper.load_model(sys.argv[1])\n",
    "\n",
    "    from models.mnist_model import create_seed_model\n",
    "    model = create_seed_model()\n",
    "    model.set_weights(weights)\n",
    "    \n",
    "    model = train(model,'/app/data/mnist.npz',settings)\n",
    "    helper.save_model(model.get_weights(),sys.argv[2])\n"
   ]
  },
  {
   "cell_type": "markdown",
   "id": "interior-legend",
   "metadata": {},
   "source": [
    "## Prepare the compute package\n"
   ]
  },
  {
   "cell_type": "code",
   "execution_count": 3,
   "id": "individual-challenge",
   "metadata": {},
   "outputs": [
    {
     "name": "stdout",
     "output_type": "stream",
     "text": [
      "1_explore_and_model.ipynb\t  4_mnist_predict.ipynb  mnist.tar.gz\n",
      "2_prepare_compute_and_seed.ipynb  client\t\t models\n",
      "3_deploy_fedn_mnist.ipynb\t  mlruns\t\t packages\n"
     ]
    }
   ],
   "source": [
    "!ls"
   ]
  },
  {
   "cell_type": "code",
   "execution_count": 4,
   "id": "variable-radius",
   "metadata": {},
   "outputs": [],
   "source": [
    "!tar -cf mnist.tar client/\n",
    "!gzip mnist.tar -f\n",
    "!mkdir -p packages/\n",
    "!cp mnist.tar.gz packages/"
   ]
  },
  {
   "cell_type": "markdown",
   "id": "detailed-blank",
   "metadata": {},
   "source": [
    "## Prepare the seed model"
   ]
  },
  {
   "cell_type": "code",
   "execution_count": 5,
   "id": "certified-perfume",
   "metadata": {},
   "outputs": [],
   "source": [
    "# Import the model using the model code\n",
    "# Import the weights as specified from the last model\n",
    "from fedn.utils.kerashelper import KerasHelper\n",
    "from client.models.mnist_model import create_seed_model\n",
    "\n",
    "if __name__ == '__main__':\n",
    "\n",
    "\t# Create a seed model and push to Minio\n",
    "\tmodel = create_seed_model()\n",
    "\toutfile_name = \"seed.npz\"\n",
    "\n",
    "\tweights = model.get_weights()\n",
    "\thelper = KerasHelper()\n",
    "\thelper.save_model(weights, outfile_name)"
   ]
  },
  {
   "cell_type": "markdown",
   "id": "quarterly-qatar",
   "metadata": {},
   "source": [
    "## Conclusions\n",
    "From here we are now ready to start a federation!"
   ]
  },
  {
   "cell_type": "code",
   "execution_count": null,
   "id": "knowing-timer",
   "metadata": {},
   "outputs": [],
   "source": []
  }
 ],
 "metadata": {
  "kernelspec": {
   "display_name": "Python 3",
   "language": "python",
   "name": "python3"
  },
  "language_info": {
   "codemirror_mode": {
    "name": "ipython",
    "version": 3
   },
   "file_extension": ".py",
   "mimetype": "text/x-python",
   "name": "python",
   "nbconvert_exporter": "python",
   "pygments_lexer": "ipython3",
   "version": "3.8.8"
  }
 },
 "nbformat": 4,
 "nbformat_minor": 5
}
