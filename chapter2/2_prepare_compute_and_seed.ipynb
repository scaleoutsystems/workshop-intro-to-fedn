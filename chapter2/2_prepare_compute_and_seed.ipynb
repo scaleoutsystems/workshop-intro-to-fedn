{
 "cells": [
  {
   "cell_type": "markdown",
   "id": "5b8ff1b5",
   "metadata": {},
   "source": [
    "## Importing dependencies"
   ]
  },
  {
   "cell_type": "code",
   "execution_count": null,
   "id": "b355686c",
   "metadata": {},
   "outputs": [],
   "source": []
  },
  {
   "cell_type": "markdown",
   "id": "9e72dc28",
   "metadata": {},
   "source": [
    "## Prepare the compute package\n"
   ]
  },
  {
   "cell_type": "code",
   "execution_count": null,
   "id": "aca886b2",
   "metadata": {},
   "outputs": [],
   "source": []
  },
  {
   "cell_type": "markdown",
   "id": "b1128a4b",
   "metadata": {},
   "source": [
    "## Prepare the seed model"
   ]
  },
  {
   "cell_type": "code",
   "execution_count": null,
   "id": "8a50ea50",
   "metadata": {},
   "outputs": [],
   "source": [
    "# Import the model using the model code\n",
    "# Import the weights as specified from the last model\n"
   ]
  },
  {
   "cell_type": "markdown",
   "id": "1cb5beef",
   "metadata": {},
   "source": [
    "## Conclusions\n",
    "From here we are now ready to start a federation!"
   ]
  },
  {
   "cell_type": "code",
   "execution_count": null,
   "id": "32aa8a97",
   "metadata": {},
   "outputs": [],
   "source": []
  }
 ],
 "metadata": {
  "kernelspec": {
   "display_name": "Python 3",
   "language": "python",
   "name": "python3"
  },
  "language_info": {
   "codemirror_mode": {
    "name": "ipython",
    "version": 3
   },
   "file_extension": ".py",
   "mimetype": "text/x-python",
   "name": "python",
   "nbconvert_exporter": "python",
   "pygments_lexer": "ipython3",
   "version": "3.9.4"
  }
 },
 "nbformat": 4,
 "nbformat_minor": 5
}
